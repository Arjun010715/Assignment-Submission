{
 "cells": [
  {
   "cell_type": "code",
   "execution_count": 1,
   "id": "ef0788b2-68e1-4d26-8fce-3eaa5df6033c",
   "metadata": {},
   "outputs": [],
   "source": [
    "a=10\n",
    "b=20"
   ]
  },
  {
   "cell_type": "code",
   "execution_count": 2,
   "id": "0f9aa596-661f-4259-a79f-893d35ca8a8a",
   "metadata": {},
   "outputs": [
    {
     "name": "stdout",
     "output_type": "stream",
     "text": [
      "200\n"
     ]
    }
   ],
   "source": [
    "print(10*20)"
   ]
  },
  {
   "cell_type": "code",
   "execution_count": 3,
   "id": "bc742a87-4e12-43ed-a01f-d31f8032c376",
   "metadata": {},
   "outputs": [
    {
     "name": "stdout",
     "output_type": "stream",
     "text": [
      "0.5\n"
     ]
    }
   ],
   "source": [
    "print(10/20)"
   ]
  },
  {
   "cell_type": "code",
   "execution_count": 4,
   "id": "55e6e16e-cca8-4e21-8e7c-f32c0bbee482",
   "metadata": {},
   "outputs": [
    {
     "name": "stdout",
     "output_type": "stream",
     "text": [
      "10\n"
     ]
    }
   ],
   "source": [
    "print(10%20)"
   ]
  },
  {
   "cell_type": "code",
   "execution_count": 5,
   "id": "c342b271-bae8-4f10-8645-1848d12d30bc",
   "metadata": {},
   "outputs": [
    {
     "name": "stdout",
     "output_type": "stream",
     "text": [
      "200.5\n"
     ]
    }
   ],
   "source": [
    "print((10*20)+(10/20))"
   ]
  },
  {
   "cell_type": "code",
   "execution_count": null,
   "id": "33779931-13fa-4020-831e-d67ae9660fe3",
   "metadata": {},
   "outputs": [],
   "source": []
  },
  {
   "cell_type": "code",
   "execution_count": 6,
   "id": "5adb4a0e-f357-4c8b-a8f4-0856fcbfdb73",
   "metadata": {},
   "outputs": [
    {
     "name": "stdin",
     "output_type": "stream",
     "text": [
      "Enter principle amount:  6500\n",
      "Enter interest rate:  6\n",
      "Enter time(years):  4\n"
     ]
    },
    {
     "name": "stdout",
     "output_type": "stream",
     "text": [
      "Simple interest of  6500.0  over a time period of 4.0 years is 1560.0\n"
     ]
    }
   ],
   "source": [
    "principle = float(input(\"Enter principle amount: \"))\n",
    "rate = float(input(\"Enter interest rate: \"))\n",
    "time = float(input(\"Enter time(years): \"))\n",
    "\n",
    "simple_interest= principle*rate*time/100\n",
    "\n",
    "print(\"Simple interest of \",principle,\" over a time period of\",time,\"years is\",simple_interest)"
   ]
  },
  {
   "cell_type": "code",
   "execution_count": null,
   "id": "1ada9b58-e246-4aed-b9c0-a5a2b90bbf5a",
   "metadata": {},
   "outputs": [],
   "source": []
  }
 ],
 "metadata": {
  "kernelspec": {
   "display_name": "Python 3",
   "language": "python",
   "name": "python3"
  },
  "language_info": {
   "codemirror_mode": {
    "name": "ipython",
    "version": 3
   },
   "file_extension": ".py",
   "mimetype": "text/x-python",
   "name": "python",
   "nbconvert_exporter": "python",
   "pygments_lexer": "ipython3",
   "version": "3.7.8"
  }
 },
 "nbformat": 4,
 "nbformat_minor": 5
}
